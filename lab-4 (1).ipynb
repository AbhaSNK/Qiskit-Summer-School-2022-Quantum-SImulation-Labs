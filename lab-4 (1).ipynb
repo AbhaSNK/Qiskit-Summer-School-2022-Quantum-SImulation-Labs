{
 "cells": [
  {
   "cell_type": "markdown",
   "id": "852ab4ac-e501-4694-bf67-90cd4122140e",
   "metadata": {},
   "source": [
    "# 1 Introduction\n",
    "\n",
    "### 1-1 Quantum Simulation\n",
    "One of the leading uses for quantum computers will be to simulate quantum systems such as molecules or engineered materials. Actually executing a quantum simulation on a current quantum computer, however, can be difficult and error prone. Your objective for this lab is to complete the exercises and then improve on them to get the highest state tomography score (more details in Section 2).\n",
    "\n",
    "The quantum system you will simulate is a quantum spin-1/2 model, where each qubit represents a quantum [spin-1/2](https://en.wikipedia.org/wiki/Spin-1/2) particle in a 1D chain. Quantum spin models have some amazing properties and uses. Computationally speaking, [certain optimization problems can be mapped](https://arxiv.org/pdf/1712.05771.pdf) to spin models and hence minimized on a quantum computer. Physically speaking, spin models show a variety of quantum behavior such as large entangled states, quantum phases of matter, quantum many-body affects, and many other open questions in physics research.\n",
    "\n",
    "There are many different spin models, but we will focus on the [$XXX$ Heisenberg spin model](https://en.wikipedia.org/wiki/Quantum_Heisenberg_model#XXX_model). Though it is not as well known as the [transverse-field Ising model](https://en.wikipedia.org/wiki/Transverse-field_Ising_model), the $XXX$ Heisenberg model is of practical and theoretical interest. It can also be difficult to simulate, which is where you come in.\n",
    "\n",
    "The notebook is organized as follows:\n",
    "1) Section 1 (labeled 1-X) provides you with brief introductions to the $XXX$ Heisenberg model, time evolving a Hamiltonian, and decomposing a time evolution operator into gates for a quantum computer to execute.\n",
    "2) Section 2 (labeled 2-X) outlines the specific requirements and boundaries associated with completing the exercises and competing for the best score. Completing the exercises will give you an example solution. Once you've completed the exercises, feel free to modify your answers to get the best score."
   ]
  },
  {
   "cell_type": "code",
   "execution_count": 50,
   "id": "d1548b05-e691-40a5-8b35-c0eaa87a2a72",
   "metadata": {},
   "outputs": [],
   "source": [
    "import numpy as np\n",
    "import matplotlib.pyplot as plt\n",
    "plt.rcParams.update({'font.size': 16})  # enlarge matplotlib fonts\n",
    "\n",
    "# Import qubit states Zero (|0>) and One (|1>), Pauli operators (X, Y, Z), and the identity operator (I)\n",
    "from qiskit.opflow import Zero, One, X, Y, Z, I"
   ]
  },
  {
   "cell_type": "markdown",
   "id": "c764af20-017f-4209-9483-4f89f10cb562",
   "metadata": {},
   "source": [
    "### 1-2 The $XXX$ Heisenberg Spin Model\n",
    "\n",
    "To simulate a quantum system, we first need to define how the quantum particles that make up the system interact with each other. In quantum physics, this is done by defining a [Hamiltonian operator](https://en.wikipedia.org/wiki/Hamiltonian_(quantum_mechanics)). For this lab, you will work with the $XXX$ Heisenberg Hamiltonian $H_{\\text{Heis}}$ as defined below\n",
    "\n",
    "$$\n",
    "H_{\\text{Heis}} = \\sum_{\\langle ij \\rangle}^{N} J \\left(\\sigma_x^{(i)}\\sigma_x^{(j)} + \\sigma_y^{(i)}\\sigma_y^{(j)} + \\sigma_z^{(i)}\\sigma_z^{(j)}\\right).\n",
    "$$\n",
    "\n",
    "$N$ is the number of spin-1/2 particles in model. The operators $\\sigma_x$, $\\sigma_y$, and $\\sigma_z$ are [Pauli operators](https://en.wikipedia.org/wiki/Pauli_matrices) where the $i$ and $j$ superscripts label which qubit they act on. For example, $\\sigma_x^{(1)}$ would be the $\\sigma_x$ operator acting on only qubit 1 (which is the 2nd qubit since indexing starts at 0). This version of the general Heisenberg spin model is called $XXX$ because the same $J$ value multiplies each pair of Pauli operators. The sum notation $\\langle ij \\rangle$ means the sum is over nearest neighbors (only qubits next to each other interact), and $J$ is the interaction strength, which we will set $J=1$.\n",
    "\n",
    "You will work with the explicit case of $N=3$ with the 3 spins arranged in a line. Written out fully, the Hamiltonian is\n",
    "$$\n",
    "H_{\\text{Heis3}} = \\sigma_x^{(0)}\\sigma_x^{(1)} + \\sigma_x^{(1)}\\sigma_x^{(2)} + \\sigma_y^{(0)}\\sigma_y^{(1)} + \\sigma_y^{(1)}\\sigma_y^{(2)} + \\sigma_z^{(0)}\\sigma_z^{(1)} + \\sigma_z^{(1)}\\sigma_z^{(2)}.\n",
    "$$\n",
    "Now that we have a Hamiltonian ($H_{\\text{Heis3}}$), we can use it to determine how the quantum system of 3 spin-1/2 particles changes in time."
   ]
  },
  {
   "cell_type": "markdown",
   "id": "2f542549-8c62-430f-bd05-26c0d0407d20",
   "metadata": {},
   "source": [
    "### 1-3 Using OpFlow\n",
    "Qiskit offers [functionality for mathematically working with quantum states and operators](https://qiskit.org/documentation/apidoc/opflow.html) called ```opflow``` with tutorials found [here](https://qiskit.org/documentation/tutorials/operators/index.html). Opflow is especially convenient when dealing with large numbers of qubits as tensor products can become unwieldy when using numpy both in size and syntax. Your first exercise is to write the above Hamiltonian $H_{\\text{Heis3}}$ in opflow."
   ]
  },
  {
   "cell_type": "code",
   "execution_count": 32,
   "id": "e6d371fd-f5c4-446a-83f4-ac7593fdcee1",
   "metadata": {},
   "outputs": [],
   "source": [
    "# Returns the XXX Heisenberg model for 3 spin-1/2 particles in a line\n",
    "def ex1_compute_H_heis3():\n",
    "    # FILL YOUR CODE IN HERE\n",
    "    H =  (I^X^X)+ (X^X^I) + (I^Y^Y) +(Y^Y^I)+  (I^Z^Z)+(Z^Z^I)\n",
    "    # Return Hamiltonian\n",
    "    return H"
   ]
  },
  {
   "cell_type": "code",
   "execution_count": 5,
   "id": "42853d81-cd9c-4b9a-9f92-1b42e28a7d74",
   "metadata": {},
   "outputs": [
    {
     "name": "stdout",
     "output_type": "stream",
     "text": [
      "Submitting your answer. Please wait...\n",
      "Congratulations 🎉! Your answer is correct and has been submitted.\n"
     ]
    }
   ],
   "source": [
    "from qc_grader.challenges.qgss_2022 import grade_lab4_ex1\n",
    "\n",
    "# The grading function is expecting a PauliSumOp operator\n",
    "grade_lab4_ex1(ex1_compute_H_heis3())"
   ]
  },
  {
   "cell_type": "code",
   "execution_count": 22,
   "id": "e9100413-524a-4008-9933-e9fa9524061e",
   "metadata": {},
   "outputs": [
    {
     "name": "stdout",
     "output_type": "stream",
     "text": [
      "[[ 2.+0.j  0.+0.j  0.+0.j  0.+0.j  0.+0.j  0.+0.j  0.+0.j  0.+0.j]\n",
      " [ 0.+0.j  0.+0.j  2.+0.j  0.+0.j  0.+0.j  0.+0.j  0.+0.j  0.+0.j]\n",
      " [ 0.+0.j  2.+0.j -2.+0.j  0.+0.j  2.+0.j  0.+0.j  0.+0.j  0.+0.j]\n",
      " [ 0.+0.j  0.+0.j  0.+0.j  0.+0.j  0.+0.j  2.+0.j  0.+0.j  0.+0.j]\n",
      " [ 0.+0.j  0.+0.j  2.+0.j  0.+0.j  0.+0.j  0.+0.j  0.+0.j  0.+0.j]\n",
      " [ 0.+0.j  0.+0.j  0.+0.j  2.+0.j  0.+0.j -2.+0.j  2.+0.j  0.+0.j]\n",
      " [ 0.+0.j  0.+0.j  0.+0.j  0.+0.j  0.+0.j  2.+0.j  0.+0.j  0.+0.j]\n",
      " [ 0.+0.j  0.+0.j  0.+0.j  0.+0.j  0.+0.j  0.+0.j  0.+0.j  2.+0.j]]\n"
     ]
    }
   ],
   "source": [
    "S = ex1_compute_H_heis3()\n",
    "print(S.to_matrix())"
   ]
  },
  {
   "cell_type": "markdown",
   "id": "35323a1f-9aac-493a-87a8-116c3b7980ca",
   "metadata": {},
   "source": [
    "### 1-4 Time Evolution\n",
    "\n",
    "Knowing the Hamiltonian, we can determine how quantum states of that system evolve in time by solving the [Schrödinger equation](https://en.wikipedia.org/wiki/Schrödinger_equation)\n",
    "$$\n",
    "i\\hbar \\dfrac{d}{dt}|\\psi(t)\\rangle = H |\\psi(t)\\rangle .\n",
    "$$\n",
    "\n",
    "For simplicity, let's set $\\hbar = 1$. We know that the Hamiltonian $H_{\\text{heis3}}$ does not change in time, so the solution to the Schrödinger equation is an exponential of the Hamiltonian operator\n",
    "$$\n",
    "\\begin{align}\n",
    "U_{\\text{Heis3}}(t) &= e^{-it H_\\text{Heis3}} = \\exp\\left(-it H_\\text{Heis3}\\right) \\\\\n",
    "U_{\\text{Heis3}}(t) &= \\exp\\left[-it \\sum_{\\langle ij \\rangle}^{N=3} \\left(\\sigma_x^{(i)}\\sigma_x^{(j)} + \\sigma_y^{(i)}\\sigma_y^{(j)} + \\sigma_z^{(i)}\\sigma_z^{(j)}\\right) \\right] \\\\\n",
    "U_{\\text{Heis3}}(t) &= \\exp\\left[-it \\left(\\sigma_x^{(0)}\\sigma_x^{(1)} + \\sigma_x^{(1)}\\sigma_x^{(2)} + \\sigma_y^{(0)}\\sigma_y^{(1)} + \\sigma_y^{(1)}\\sigma_y^{(2)} + \\sigma_z^{(0)}\\sigma_z^{(1)} + \\sigma_z^{(1)}\\sigma_z^{(2)}\\right) \\right]\n",
    "\\end{align}\n",
    "$$.\n",
    "\n",
    "Now that we have the time evolution operator $U_{\\text{Heis3}}(t)$, we can simulate changes in a state of the system ($|\\psi(t)\\rangle$) over time $|\\psi(t)\\rangle = U_{\\text{Heis3}}(t)|\\psi(t=0)\\rangle$.\n",
    "\n",
    "Using opflow methods again, your second exercise is to compute the unitary time evolution under the Hamiltonian you constructed from exercise 1 for a given time t."
   ]
  },
  {
   "cell_type": "code",
   "execution_count": 33,
   "id": "ccdedbc8-f335-468c-9db5-b594aa2e50bd",
   "metadata": {},
   "outputs": [],
   "source": [
    "# Returns the time evolution operator U_heis3(t) for a given time t assuming an XXX Heisenberg Hamiltonian for 3 spins-1/2 particles in a line\n",
    "def ex2_compute_U_heis3(t):\n",
    "    # FILL YOUR CODE IN HERE\n",
    "    \n",
    "     \n",
    "    U = ((ex1_compute_H_heis3()) * t).exp_i()\n",
    "    return U"
   ]
  },
  {
   "cell_type": "code",
   "execution_count": 34,
   "id": "c137a5b7-4d20-4bb9-85ca-8daa5cfe2367",
   "metadata": {},
   "outputs": [
    {
     "name": "stdout",
     "output_type": "stream",
     "text": [
      "Submitting your answer. Please wait...\n",
      "Congratulations 🎉! Your answer is correct and has been submitted.\n"
     ]
    }
   ],
   "source": [
    "from qc_grader.challenges.qgss_2022 import grade_lab4_ex2\n",
    "\n",
    "# The grading function is expecting a funtion that returns PauliSumOp operator\n",
    "grade_lab4_ex2(ex2_compute_U_heis3)"
   ]
  },
  {
   "cell_type": "markdown",
   "id": "1668a459-1c19-4769-9263-ff0d8de330af",
   "metadata": {},
   "source": [
    "### 1-5 Classical Simulation of $H_{\\text{Heis3}}$\n",
    "\n",
    "Now that we have the operator $U_{\\text{Heis3}}(t)$ which describes how any state of the quantum system changes in time, we can simulate the $XXX$ Heisenberg spin model! Just for fun, let's simulate the system using a classical computer first.\n",
    "\n",
    "(Fun fact: Notice the size of $U_{\\text{Heis3}}(t)$ in matrix form. It's represented by an $8$x$8$ matrix. This is because there are $2^3=8$ states in the $N=3$ system. If the simulation were of $50$ particles ($N=50$), $U_{\\text{Heis}}(t)$ would be approximately $10^{15}$x$10^{15}$! Well beyond the capacity of today's computers.)"
   ]
  },
  {
   "cell_type": "code",
   "execution_count": 35,
   "id": "0813fede-9945-4477-9304-9f9891ce50a7",
   "metadata": {},
   "outputs": [
    {
     "data": {
      "image/png": "[encoded data removed]",
      "text/plain": [
       "<Figure size 432x288 with 1 Axes>"
      ]
     },
     "metadata": {
      "needs_background": "light"
     },
     "output_type": "display_data"
    }
   ],
   "source": [
    "# Define array of time points\n",
    "ts = np.linspace(0, np.pi, 100)\n",
    "\n",
    "# Define initial state |110>\n",
    "initial_state = One^One^Zero\n",
    "\n",
    "# Compute probability of remaining in |110> state over the array of time points\n",
    " # ~initial_state gives the bra of the initial state (<110|)\n",
    " # @ is short hand for matrix multiplication\n",
    " # ex2_compute_U_heis3(t) is the unitary time evolution at time t\n",
    " # t needs to be wrapped with float(t) to avoid a bug\n",
    " # (...).eval() returns the inner product <110|ex2_compute_U_heis3(t)|110>\n",
    " #  np.abs(...)**2 is the modulus squared of the innner product which is the expectation value, or probability, of remaining in |110>\n",
    "probs_110 = [np.abs((~initial_state @ ex2_compute_U_heis3(float(t)) @ initial_state).eval())**2 for t in ts]\n",
    "\n",
    "# Plot evolution of |110>\n",
    "plt.plot(ts, probs_110, linewidth=2)\n",
    "plt.xlabel('time')\n",
    "plt.ylabel(r'probability of state $|110\\rangle$')\n",
    "plt.title(r'Evolution of state $|110\\rangle$ under $H_{Heis3}$')\n",
    "plt.ylim([-0.05,1.05])\n",
    "plt.grid()\n",
    "plt.show()"
   ]
  },
  {
   "cell_type": "markdown",
   "id": "04db5341-8ba0-433b-b671-d929aba1fbe0",
   "metadata": {},
   "source": [
    "### 1-6 Decomposition of $U_{\\text{Heis3}}(t)$ Into Quantum Gates\n",
    "\n",
    "To execute $U_{\\text{Heis3}}(t)$ on a [circuit model](https://qiskit.org/documentation/apidoc/circuit.html) quantum computer, we must decompose $U_{\\text{Heis3}}(t)$ into a product of single and two-qubit gates that are native to that quantum computer. There are a [variety of techniques](https://en.wikipedia.org/wiki/Hamiltonian_simulation) to do this. For this lab, you will only use [Trotterization](https://en.wikipedia.org/wiki/Hamiltonian_simulation#Product_Formulas) (which is sometimes referred to as the Suzuki-Trotterization decomposition, Trotter formulas, product formulas, and other names).\n",
    "\n",
    "Below, we show an example Trotterization as outlined in \\[1-2\\].\n",
    "\n",
    "Since the [Pauli operators do not commute](https://en.wikipedia.org/wiki/Pauli_matrices#Commutation_relations) with each other, the exponential $U_{\\text{Heis3}}(t)$ cannot be split into a product of simpler exponentials. However, we can approximate $U_{\\text{Heis3}}(t)$ as a product of simpler exponentials through Trotterization. Consider a subsystem of 2 spin-1/2 particles within the larger 3 spin system. The Hamiltonian on spins $i$ and $j$ ($i,j \\in \\{0,1,2\\}$) would be $H^{(i,j)}_{\\text{Heis2}} = \\sigma_x^{(i)}\\sigma_x^{(j)} + \\sigma_y^{(i)}\\sigma_y^{(j)} + \\sigma_z^{(i)}\\sigma_z^{(j)}$. Rewriting $U_{\\text{Heis3}}(t)$ in terms of the two possible subsystems within the total $N=3$ system you will simulate,\n",
    "\n",
    "$$\n",
    "U_{\\text{Heis3}}(t) = \\exp\\left[-i t \\left(H^{(0,1)}_{\\text{Heis2}} + H^{(1,2)}_{\\text{Heis2}} \\right)\\right].\n",
    "$$\n",
    "\n",
    "$H^{(0,1)}_{\\text{Heis2}}$ and $H^{(1,2)}_{\\text{Heis2}}$ do not commute, so $U_{\\text{Heis3}}(t) \\neq \\exp\\left(-i t H^{(0,1)}_{\\text{Heis2}}\\right) \\exp\\left(-i t H^{(1,2)}_{\\text{Heis2}} \\right)$. But, this product decomposition can be approximated with Trotterization which says $U_{\\text{Heis3}}(t)$ is approximately a short evolution of $H^{(0,1)}_{\\text{Heis2}}$ (time = $t/n$) and followed by a short evolution of $H^{(1,2)}_{\\text{Heis2}}$ (time = $t/n$) repeated $n$ times\n",
    "\n",
    "$$\n",
    "\\begin{align}\n",
    "U_{\\text{Heis3}}(t) &= \\exp\\left[-i t \\left(H^{(0,1)}_{\\text{Heis2}} + H^{(1,2)}_{\\text{Heis2}} \\right)\\right] \\\\\n",
    "U_{\\text{Heis3}}(t) &\\approx \\left[\\exp\\left(\\dfrac{-it}{n}H^{(0,1)}_{\\text{Heis2}}\\right) \\exp\\left(\\dfrac{-it}{n}H^{(1,2)}_{\\text{Heis2}} \\right)\\right]^n.\n",
    "\\end{align}\n",
    "$$\n",
    "\n",
    "$n$ is the number of Trotter steps, and as $n$ increases, the approximation becomes more accurate. (Note that how a unitary is split up into subsystems for Trotterization is not necessarily unique.) The decomposition goes further. Within each 2 spin subsystems, the Pauli operator pairs ($\\sigma_x^{(i)}\\sigma_x^{(j)}$, $\\sigma_y^{(i)}\\sigma_y^{(j)}$, and $\\sigma_z^{(i)}\\sigma_z^{(j)}$) commute. This means we can decompose the exponential of a subsystem Hamiltonian ($H^{(i,j)}_{\\text{Heis2}}$) into a product of even simpler exponentials getting us closer to a gate implementation of $U_{\\text{Heis3}}(t)$\n",
    "\n",
    "$$\n",
    "\\begin{align}\n",
    "U_{\\text{Heis3}}(t) &\\approx \\left[\\exp\\left(\\dfrac{-it}{n}H^{(0,1)}_{\\text{Heis2}}\\right) \\exp\\left(\\dfrac{-it}{n}H^{(1,2)}_{\\text{Heis2}} \\right)\\right]^n \\\\\n",
    "U_{\\text{Heis3}}(t) &\\approx \\left[\\exp\\left(\\dfrac{-it}{n}\\left(\\sigma_x^{(0)}\\sigma_x^{(1)} + \\sigma_y^{(0)}\\sigma_y^{(1)} + \\sigma_z^{(0)}\\sigma_z^{(1)}\\right)\\right) \\exp\\left(\\dfrac{-it}{n}\\left(\\sigma_x^{(1)}\\sigma_x^{(2)} + \\sigma_y^{(1)}\\sigma_y^{(2)} + \\sigma_z^{(1)}\\sigma_z^{(2)}\\right)\\right)\\right]^{n} \\\\\n",
    "U_{\\text{Heis3}}(t) &\\approx \\left[\\exp\\left(\\dfrac{-it}{n}\\sigma_x^{(0)}\\sigma_x^{(1)}\\right) \\exp\\left(\\dfrac{-it}{n}\\sigma_y^{(0)}\\sigma_y^{(1)}\\right) \\exp\\left(\\dfrac{-it}{n}\\sigma_z^{(0)}\\sigma_z^{(1)}\\right) \\exp\\left(\\dfrac{-it}{n}\\sigma_x^{(1)}\\sigma_x^{(2)}\\right) \\exp\\left(\\dfrac{-it}{n}\\sigma_y^{(1)}\\sigma_y^{(2)}\\right) \\exp\\left(\\dfrac{-it}{n}\\sigma_z^{(1)}\\sigma_z^{(2)}\\right)\\right]^{n}\n",
    "\\end{align}\n",
    "$$\n",
    "\n",
    "For simplicity, and to use more common notation, let's rename the products with $XX(2t) = \\exp\\left(-it \\sigma_x\\sigma_x\\right)$, $YY(2t) = \\exp\\left(-it \\sigma_y\\sigma_y\\right)$, and $ZZ(2t) = \\exp\\left(-it \\sigma_z\\sigma_z\\right)$ and rewrite the Trotterized $U_{\\text{Heis3}}(t)$\n",
    "$$\n",
    "U_{\\text{Heis3}}(t) \\approx \\left[XX\\left(\\frac{2t}{n}\\right)^{(0,1)} YY\\left(\\frac{2t}{n}\\right)^{(0,1)} ZZ\\left(\\frac{2t}{n}\\right)^{(0,1)} XX\\left(\\frac{2t}{n}\\right)^{(1,2)} YY\\left(\\frac{2t}{n}\\right)^{(1,2)} ZZ\\left(\\frac{2t}{n}\\right)^{(1,2)} \\right]^{n}\n",
    "$$\n",
    "And that's it! We have now approximately decomposed $U_{\\text{Heis3}}(t)$ into two-qubit gates $XX(t)$, $YY(t)$, and $ZZ(t)$. Note that these gates are not native to superconducting qubits, but in Section 2, they will be further decomposed into native single and two-qubit gates.\n",
    "\n",
    "\n",
    "\\[1\\] Y. Salathe, et al., *Digital Quantum Simulation of Spin Models with Circuit Quantum Electrodynamics*, [Phys. Rev. X **5**, 021027 (2015)](https://link.aps.org/doi/10.1103/PhysRevX.5.021027)\n",
    "\n",
    "\\[2\\] F. Tacchino, et al., *Quantum Computers as Universal Quantum Simulators: State-of-the-Art and Perspectives*, [Adv. Quantum Technol. *3* 3 (2020)](https://doi.org/10.1002/qute.201900052) \\[[free arXiv version](https://arxiv.org/abs/1907.03505)\\]\n"
   ]
  },
  {
   "cell_type": "markdown",
   "id": "509e3761-6196-4b8f-aa5d-434bf1070eeb",
   "metadata": {},
   "source": [
    "# 2 Contest: Optimal Time Evolution\n",
    "### 2-1 Contest Details\n",
    "For this lab, we will have a fun, no pressure contest to get the best quantum simulation. Below is an outline of contest guidelines.\n",
    "\n",
    "You are to time evolve the state $|110\\rangle$ to time $t=\\pi$ under the $XXX$ Heisenberg model Hamiltonian $H_{\\text{heis3}}$ as defined in Section 1. This will be done on the ibmq_manila quantum computer and noisy simulator. The qubits in the state $|110\\rangle$ could correspond to any three qubits of ibmq_manila. The evolution must be done using Trotterization with at least 4 steps ($n\\geq 4$). You will compete based on the fidelity of the evolved state at time $t=\\pi$ using [state tomography](https://qiskit.org/documentation/tutorials/noise/8_tomography.html). State tomography is a way of determining the exact quantum state--even phase information--at the end of a quantum circuit by running the circuit multiple times and measuring in different bases. The closer your final quantum state to the expected state, the higher the fidelity. As you work on your solution, other important elements to consider are clarity of your code and how many different techniques you can learn and bring together. This is a great time to practice a variety of skills. Ibmq_manila's remaining two qubits will not be evaluated by the state tomography calculation, so you may use them as you wish. You do not need to follow the same decomposition given in the example above, but your solution must be a Trotterization of $U_{\\text{heis3}}(t)$ with at least 4 steps ($n\\geq 4$). You will find it useful to implement ideas and techniques you learned during this summer school that reduce errors and improve qubit coherence."
   ]
  },
  {
   "cell_type": "markdown",
   "id": "c794b8f1-6de7-497b-a000-0b37f9d094b3",
   "metadata": {},
   "source": [
    "### 2-2 Import Qiskit\n",
    "\n",
    "Feel free to import packages as needed. However, please keep to free packages and those obtained through ```pip install``` or ```conda install```."
   ]
  },
  {
   "cell_type": "code",
   "execution_count": null,
   "id": "24999fd4-9c8e-407f-86ea-80c0d11d9ce2",
   "metadata": {},
   "outputs": [],
   "source": [
    "pip install "
   ]
  },
  {
   "cell_type": "code",
   "execution_count": 45,
   "id": "8b3e598e-1156-4263-abc6-890e554cf4fb",
   "metadata": {},
   "outputs": [],
   "source": [
    "# Importing standard Qiskit modules\n",
    "from qiskit import QuantumCircuit, QuantumRegister, IBMQ, execute, transpile\n",
    "from qiskit.providers.aer import QasmSimulator\n",
    "from qiskit.tools.monitor import job_monitor\n",
    "from qiskit.circuit import Parameter\n",
    "\n",
    "# Import state tomography modules\n",
    "from qiskit.ignis.verification.tomography import state_tomography_circuits, StateTomographyFitter\n",
    "from qiskit.quantum_info import state_fidelity"
   ]
  },
  {
   "cell_type": "markdown",
   "id": "900d2ab8-b568-4d28-87d8-473962fdc998",
   "metadata": {},
   "source": [
    "### 2-3 Quantum Devices\n",
    "Connect to IBM provider and connect to a real or simulated backend. Final submissions must be run on a real backend, but simulated devices are faster for debugging and testing."
   ]
  },
  {
   "cell_type": "code",
   "execution_count": 2,
   "id": "7345d1e9-4803-4bd8-a578-0af5294cb22a",
   "metadata": {},
   "outputs": [],
   "source": [
    "# load IBMQ Account data\n",
    "\n",
    "# IBMQ.save_account(aba131ee655503d9947f2f92eb56f1c14b0ae040969de473340bcab72ea6d241dde6974114ba937c95542fa92d8f8fdf2c7b3f3a26b75d64977ed46299cef376)  # replace TOKEN with your API token string (https://quantum-computing.ibm.com/lab/docs/iql/manage/account/ibmq)\n",
    "provider = IBMQ.load_account()"
   ]
  },
  {
   "cell_type": "code",
   "execution_count": 3,
   "id": "78e0af5d-6da9-4a08-912a-5a172535e03b",
   "metadata": {},
   "outputs": [],
   "source": [
    "# Get backend for experiment\n",
    "provider = IBMQ.get_provider(hub='ibm-q')\n",
    "manila = provider.get_backend('ibmq_manila')\n",
    "# properties = manila.properties()\n",
    "\n",
    "# Simulated backend based on ibmq_manila's device noise profile\n",
    "sim_noisy_manila = QasmSimulator.from_backend(provider.get_backend('ibmq_manila'))\n",
    "\n",
    "# Noiseless simulated backend\n",
    "sim = QasmSimulator()"
   ]
  },
  {
   "cell_type": "markdown",
   "id": "d4e8a24c-5846-4de9-95ea-3033653c4037",
   "metadata": {},
   "source": [
    "### 2-4 Decomposition of $U_{\\text{Heis3}}(t)$ into Quantum Gates (Example)\n",
    "\n",
    "The following circuit code is written based on the example given in Section 1. This is where you write your solution.\n",
    "\n",
    "YOUR TROTTERIZATION GOES HERE -- START (beginning of example)"
   ]
  },
  {
   "cell_type": "code",
   "execution_count": 20,
   "id": "9156980e-d3a7-4494-8ad4-7ec15ca92e7f",
   "metadata": {},
   "outputs": [],
   "source": [
    "# Parameterize variable t to be evaluated at t=pi later\n",
    "t = Parameter('t')"
   ]
  },
  {
   "cell_type": "code",
   "execution_count": 21,
   "id": "ec328a9f-809c-49d6-8400-fa09579c1d8c",
   "metadata": {},
   "outputs": [],
   "source": [
    "# Build a subcircuit for XX(t) two-qubit gate\n",
    "def compute_XX_gate(t):\n",
    "    XX_qr = QuantumRegister(2)\n",
    "    XX_qc = QuantumCircuit(XX_qr, name='XX')\n",
    "    \n",
    "    XX_qc.rz(np.pi/2,[0,1])\n",
    "    XX_qc.ry(np.pi/2,[0,1])\n",
    "    XX_qc.cnot(0,1)\n",
    "    XX_qc.rz(2 * t, 1)\n",
    "    XX_qc.cnot(0,1)\n",
    "    XX_qc.ry(-np.pi/2,[0,1])\n",
    "    \n",
    "\n",
    "    # Convert custom quantum circuit into a gate\n",
    "    XX = XX_qc.to_instruction()\n",
    "    \n",
    "    return XX"
   ]
  },
  {
   "cell_type": "code",
   "execution_count": 39,
   "id": "52977709-1b68-4ebf-98de-dc5c88265acb",
   "metadata": {},
   "outputs": [],
   "source": [
    "# Build a subcircuit for YY(t) two-qubit gate\n",
    "def ex3_compute_YY_gate(t):\n",
    "    # FILL YOUR CODE IN HERE\n",
    "    YY_qr = QuantumRegister(2)\n",
    "    YY_qc = QuantumCircuit(YY_qr, name='XX')\n",
    "    \n",
    "    YY_qc.rz(np.pi/2,[0,1])\n",
    "    YY_qc.ry(np.pi/2,[0,1])\n",
    "    YY_qc.cnot(0,1)\n",
    "    YY_qc.rz(2 * t, 1)\n",
    "    YY_qc.cnot(0,1)\n",
    "    YY_qc.ry(-np.pi/2,[0,1])\n",
    "    YY_qc.rz(-np.pi/2,[0,1])\n",
    "    YY = YY_qc.to_instruction()\n",
    "    return YY"
   ]
  },
  {
   "cell_type": "code",
   "execution_count": 36,
   "id": "3f0c76aa-d03e-48af-93c1-db8d147cf549",
   "metadata": {},
   "outputs": [
    {
     "data": {
      "image/png": "[encoded data removed]",
      "text/plain": [
       "<Figure size 116.552x144.48 with 1 Axes>"
      ]
     },
     "execution_count": 36,
     "metadata": {},
     "output_type": "execute_result"
    }
   ],
   "source": [
    "import numpy as np\n",
    "qc = QuantumCircuit(2)\n",
    "qc.compose(compute_XX_gate(5))\n",
    "qc.draw()"
   ]
  },
  {
   "cell_type": "code",
   "execution_count": 40,
   "id": "7fcb6c56-ae8c-4b09-829f-2b2204d688ba",
   "metadata": {},
   "outputs": [
    {
     "name": "stdout",
     "output_type": "stream",
     "text": [
      "Submitting your answer. Please wait...\n",
      "Congratulations 🎉! Your answer is correct and has been submitted.\n"
     ]
    }
   ],
   "source": [
    "from qc_grader.challenges.qgss_2022 import grade_lab4_ex3\n",
    "\n",
    "# The grading function is expecting an Instruction\n",
    "grade_lab4_ex3(ex3_compute_YY_gate(t))"
   ]
  },
  {
   "cell_type": "code",
   "execution_count": 33,
   "id": "4fd739df-0dc4-48ef-823e-230fb0c8fd64",
   "metadata": {},
   "outputs": [],
   "source": [
    "# Build a subcircuit for ZZ(t) two-qubit gate\n",
    "def ex4_compute_ZZ_gate(t):\n",
    "    # FILL YOUR CODE IN HERE\n",
    "    \n",
    "    \n",
    "    ZZ_qr = QuantumRegister(2)\n",
    "    ZZ_qc = QuantumCircuit(ZZ_qr, name='XX')\n",
    "     \n",
    "    ZZ_qc.ry(np.pi/2,[0,1])\n",
    "        \n",
    "    ZZ_qc.ry(np.pi/2,[0,1])\n",
    "    ZZ_qc.cnot(0,1)\n",
    "    ZZ_qc.rz(2 * t, 1)\n",
    "    ZZ_qc.cnot(0,1)\n",
    "    ZZ_qc.ry(-np.pi/2,[0,1])\n",
    "    ZZ_qc.ry(-np.pi/2,[0,1])\n",
    "    \n",
    "    ZZ = ZZ_qc.to_instruction()\n",
    "    return ZZ"
   ]
  },
  {
   "cell_type": "code",
   "execution_count": 34,
   "id": "bafb7448-8ced-4906-a3ee-c2175390e5c7",
   "metadata": {},
   "outputs": [
    {
     "name": "stdout",
     "output_type": "stream",
     "text": [
      "Submitting your answer. Please wait...\n",
      "Congratulations 🎉! Your answer is correct and has been submitted.\n"
     ]
    }
   ],
   "source": [
    "from qc_grader.challenges.qgss_2022 import grade_lab4_ex4\n",
    "\n",
    "# The grading function is expecting an Instruction\n",
    "grade_lab4_ex4(ex4_compute_ZZ_gate(t))"
   ]
  },
  {
   "cell_type": "markdown",
   "id": "4335d6d3-4a8e-4140-aad0-97b9b189905a",
   "metadata": {},
   "source": [
    "Combine subcircuits into single gate representing one ($n=1$) trotter step."
   ]
  },
  {
   "cell_type": "code",
   "execution_count": 41,
   "id": "8ef03f79-2c47-49da-93d5-0c0ae3ea5872",
   "metadata": {},
   "outputs": [],
   "source": [
    "# Combine subcircuits into a single multiqubit gate representing a single trotter step\n",
    "num_qubits = 3\n",
    "\n",
    "# Define two-qubit interactions Parameterized by t\n",
    "XX = compute_XX_gate(t)\n",
    "YY = ex3_compute_YY_gate(t)\n",
    "ZZ = ex4_compute_ZZ_gate(t)\n",
    "\n",
    "Trot_qr = QuantumRegister(num_qubits)\n",
    "Trot_qc = QuantumCircuit(Trot_qr, name='Trot')\n",
    "\n",
    "for i in range(0, num_qubits - 1):\n",
    "    Trot_qc.append(ZZ, [Trot_qr[i], Trot_qr[i+1]])\n",
    "    Trot_qc.append(YY, [Trot_qr[i], Trot_qr[i+1]])\n",
    "    Trot_qc.append(XX, [Trot_qr[i], Trot_qr[i+1]])\n",
    "\n",
    "# Convert custom quantum circuit into a gate\n",
    "Trot_gate = Trot_qc.to_instruction()"
   ]
  },
  {
   "cell_type": "markdown",
   "id": "b9fb21ba-a2ea-4595-ba76-a4cef87ea666",
   "metadata": {},
   "source": [
    "YOUR TROTTERIZATION GOES HERE -- FINISH (end of example)\n",
    "\n",
    "### 2-5 Trotterized Time Evolution\n",
    "\n",
    "Time evolve the state $|110\\rangle$ from $\\theta=0$ to $\\theta=\\pi$ under $H_{\\text{heis3}}$. Although manila has five qubits, only three of the qubits will be used for the state $|110\\rangle$. From left to right, the qubits in the state $|110\\rangle$ could correspond to any of the five qubits. State tomography will evaluate how well the quantum simulation matches to the expected state at $\\theta= \\pi$. (Note the two remaining qubits will not part of the state tomography calculation.)\n",
    "\n",
    "You choose how many trotter steps (```trotter_steps```) to take in the simulation, but it must be at least 4. The code below is written to be generic enough for you may add to it if necessary for your solution."
   ]
  },
  {
   "cell_type": "code",
   "execution_count": 42,
   "id": "765e6582-83aa-4228-bedd-8482575c4771",
   "metadata": {},
   "outputs": [],
   "source": [
    "# Setup experiment parameters\n",
    "\n",
    "# The final time of the state evolution\n",
    "target_time = np.pi  # DO NOT MODIFY\n",
    "\n",
    "# Number of trotter steps\n",
    "trotter_steps = 4  ### CAN BE >= 4\n",
    "\n",
    "# Select which qubits to use for the simulation\n",
    "q_regs = [0,1,2]"
   ]
  },
  {
   "cell_type": "code",
   "execution_count": 44,
   "id": "6e0507c2-9755-455a-85f1-820387036b89",
   "metadata": {},
   "outputs": [
    {
     "name": "stdout",
     "output_type": "stream",
     "text": [
      "Collecting qiskit_ignis\n",
      "  Downloading qiskit_ignis-0.7.1-py3-none-any.whl (198 kB)\n",
      "\u001b[K     |████████████████████████████████| 198 kB 22.2 MB/s eta 0:00:01\n",
      "\u001b[?25hRequirement already satisfied: qiskit-terra>=0.15.1 in /opt/conda/lib/python3.8/site-packages (from qiskit_ignis) (0.21.0)\n",
      "Requirement already satisfied: scipy!=0.19.1,>=0.19 in /opt/conda/lib/python3.8/site-packages (from qiskit_ignis) (1.8.0)\n",
      "Requirement already satisfied: retworkx>=0.8.0 in /opt/conda/lib/python3.8/site-packages (from qiskit_ignis) (0.11.0)\n",
      "Requirement already satisfied: numpy>=1.13 in /opt/conda/lib/python3.8/site-packages (from qiskit_ignis) (1.22.4)\n",
      "Requirement already satisfied: setuptools>=40.1.0 in /opt/conda/lib/python3.8/site-packages (from qiskit_ignis) (61.2.0)\n",
      "Requirement already satisfied: dill>=0.3 in /opt/conda/lib/python3.8/site-packages (from qiskit-terra>=0.15.1->qiskit_ignis) (0.3.4)\n",
      "Requirement already satisfied: sympy>=1.3 in /opt/conda/lib/python3.8/site-packages (from qiskit-terra>=0.15.1->qiskit_ignis) (1.10.1)\n",
      "Requirement already satisfied: symengine>=0.9 in /opt/conda/lib/python3.8/site-packages (from qiskit-terra>=0.15.1->qiskit_ignis) (0.9.2)\n",
      "Requirement already satisfied: ply>=3.10 in /opt/conda/lib/python3.8/site-packages (from qiskit-terra>=0.15.1->qiskit_ignis) (3.11)\n",
      "Requirement already satisfied: psutil>=5 in /opt/conda/lib/python3.8/site-packages (from qiskit-terra>=0.15.1->qiskit_ignis) (5.9.0)\n",
      "Requirement already satisfied: tweedledum<2.0,>=1.1 in /opt/conda/lib/python3.8/site-packages (from qiskit-terra>=0.15.1->qiskit_ignis) (1.1.1)\n",
      "Requirement already satisfied: stevedore>=3.0.0 in /opt/conda/lib/python3.8/site-packages (from qiskit-terra>=0.15.1->qiskit_ignis) (3.5.0)\n",
      "Requirement already satisfied: python-dateutil>=2.8.0 in /opt/conda/lib/python3.8/site-packages (from qiskit-terra>=0.15.1->qiskit_ignis) (2.8.2)\n",
      "Requirement already satisfied: six>=1.5 in /opt/conda/lib/python3.8/site-packages (from python-dateutil>=2.8.0->qiskit-terra>=0.15.1->qiskit_ignis) (1.16.0)\n",
      "Requirement already satisfied: pbr!=2.1.0,>=2.0.0 in /opt/conda/lib/python3.8/site-packages (from stevedore>=3.0.0->qiskit-terra>=0.15.1->qiskit_ignis) (5.8.1)\n",
      "Requirement already satisfied: mpmath>=0.19 in /opt/conda/lib/python3.8/site-packages (from sympy>=1.3->qiskit-terra>=0.15.1->qiskit_ignis) (1.2.1)\n",
      "Installing collected packages: qiskit-ignis\n",
      "Successfully installed qiskit-ignis-0.7.1\n"
     ]
    }
   ],
   "source": [
    "!pip install qiskit_ignis"
   ]
  },
  {
   "cell_type": "code",
   "execution_count": 46,
   "id": "c6135540-dcea-4313-8ce8-0eb8e3ee23e7",
   "metadata": {},
   "outputs": [
    {
     "data": {
      "image/png": "[encoded data removed]",
      "text/plain": [
       "<Figure size 654.94x385.28 with 1 Axes>"
      ]
     },
     "execution_count": 46,
     "metadata": {},
     "output_type": "execute_result"
    }
   ],
   "source": [
    "# Initialize quantum circuit for 3 qubits\n",
    "qr = QuantumRegister(5)\n",
    "qc = QuantumCircuit(qr)\n",
    "\n",
    "# Prepare initial state (remember we are only evolving 3 of the 7 qubits on manila qubits (q_5, q_3, q_1) corresponding to the state |110>)\n",
    "qc.x([q_regs[2], q_regs[1]])  # For example this could be (q_regs=[2, 1, 0] which corresponds to => |110>)\n",
    "\n",
    "# Simulate time evolution under H_heis3 Hamiltonian\n",
    "for _ in range(trotter_steps):\n",
    "    qc.append(Trot_gate, q_regs)\n",
    "\n",
    "# Evaluate simulation at target_time (t=pi) meaning each trotter step evolves pi/trotter_steps in time\n",
    "qc = qc.bind_parameters({t: target_time/trotter_steps})\n",
    "\n",
    "# Generate state tomography circuits to evaluate fidelity of simulation\n",
    "st_qcs = state_tomography_circuits(qc, q_regs)\n",
    "\n",
    "# Display circuit for confirmation\n",
    "# st_qcs[-1].decompose().draw()  # view decomposition of trotter gates\n",
    "st_qcs[-1].draw()  # only view trotter gates"
   ]
  },
  {
   "cell_type": "markdown",
   "id": "1742151c-1261-4b42-80a4-da2c0ad90ac5",
   "metadata": {},
   "source": [
    "### 2-6 Execute\n",
    "For your final submission, you will need to execute your solution on a real backend with four repetitions. For faster debugging, considering using a simulated backend and/or 1 repetition."
   ]
  },
  {
   "cell_type": "code",
   "execution_count": 47,
   "id": "79c3ef21-c143-418a-8b50-f0ab39c5ae35",
   "metadata": {},
   "outputs": [
    {
     "name": "stdout",
     "output_type": "stream",
     "text": [
      "Job ID 96ceb64b-efdb-4cf1-b897-b312447211e2\n",
      "Job ID e2e6572b-00c5-480d-a180-4a82d71c551f\n",
      "Job ID aeca8383-bab5-4dd7-91ee-dd32935700a7\n",
      "Job ID 6dd03cfd-3cbe-48a2-b133-161fca83dd82\n"
     ]
    }
   ],
   "source": [
    "shots = 8192\n",
    "reps = 4\n",
    "\n",
    "# Pick the simulated or real backend for manila\n",
    "backend = sim  # Noiseless simulator\n",
    "# backend = sim_noisy_manila  # Simulator that mimics ibmq_manila\n",
    "# backend = manila  # The real manila backend\n",
    "\n",
    "jobs = []\n",
    "for _ in range(reps):\n",
    "    # Execute\n",
    "    job = execute(st_qcs, backend, shots=shots)\n",
    "    print('Job ID', job.job_id())\n",
    "    jobs.append(job)"
   ]
  },
  {
   "cell_type": "markdown",
   "id": "be7acc76-86f0-4b1f-94e4-e4e1014f3956",
   "metadata": {},
   "source": [
    "We can monitor the status of the jobs using Qiskit's job monitoring tools."
   ]
  },
  {
   "cell_type": "code",
   "execution_count": 48,
   "id": "1b142880-af5b-4913-8f50-9248e5d1646f",
   "metadata": {},
   "outputs": [
    {
     "name": "stdout",
     "output_type": "stream",
     "text": [
      "Job Status: job has successfully run\n",
      "Job Status: job has successfully run\n",
      "Job Status: job has successfully run\n",
      "Job Status: job has successfully run\n"
     ]
    }
   ],
   "source": [
    "for job in jobs:\n",
    "    job_monitor(job)\n",
    "    try:\n",
    "        if job.error_message() is not None:\n",
    "            print(job.error_message())\n",
    "    except:\n",
    "        pass"
   ]
  },
  {
   "cell_type": "markdown",
   "id": "e4186e06-db3d-4d0d-aef4-51906f41df61",
   "metadata": {},
   "source": [
    "### 2-7 Results Analysis\n",
    "Extract the results for the completed jobs and compute the state tomography fidelity for each repetition. You may choose to include other post-processing analyses here as well."
   ]
  },
  {
   "cell_type": "code",
   "execution_count": 51,
   "id": "f87c0c22-1f37-4f56-9ec5-7e3c5d7a8384",
   "metadata": {},
   "outputs": [
    {
     "name": "stdout",
     "output_type": "stream",
     "text": [
      "state tomography fidelity on qasm_simulator = 0.0004 ± 0.0004\n",
      "Inspiration: Measurement error mitigation, Olivia Lanes's 2nd lecture\n"
     ]
    }
   ],
   "source": [
    "# Compute the state tomography based on the st_qcs quantum circuits and the results from those ciricuits\n",
    "def state_tomo(result, st_qcs):\n",
    "    # The expected final state; necessary to determine state tomography fidelity\n",
    "    target_state = (One^One^Zero).to_matrix()  # DO NOT MODIFY\n",
    "    # Fit state tomography results\n",
    "    tomo_fitter = StateTomographyFitter(result, st_qcs)\n",
    "    rho_fit = tomo_fitter.fit(method='lstsq')\n",
    "    # Compute fidelity\n",
    "    fid = state_fidelity(rho_fit, target_state)\n",
    "    return fid\n",
    "\n",
    "# Compute tomography fidelities for each repetition\n",
    "fids = []\n",
    "for job in jobs:\n",
    "    fid = state_tomo(job.result(), st_qcs)\n",
    "    fids.append(fid)\n",
    "    \n",
    "# Share tomography fidelity of discord to compete and collaborate with other students\n",
    "print('state tomography fidelity on ' + str(backend) + ' = {:.4f} \\u00B1 {:.4f}'.format(np.mean(fids), np.std(fids)))\n",
    "# Share what lectures and techniques were useful in optimizing your results\n",
    "print('Inspiration: Measurement error mitigation, Olivia Lanes\\'s 2nd lecture')"
   ]
  },
  {
   "cell_type": "code",
   "execution_count": null,
   "id": "a7a0994c-f8bf-4613-8b1e-c78eb2864b8e",
   "metadata": {},
   "outputs": [],
   "source": [
    "import qiskit.tools.jupyter\n",
    "%qiskit_version_table"
   ]
  }
 ],
 "metadata": {
  "kernelspec": {
   "display_name": "Python 3 (ipykernel)",
   "language": "python",
   "name": "python3"
  },
  "language_info": {
   "codemirror_mode": {
    "name": "ipython",
    "version": 3
   },
   "file_extension": ".py",
   "mimetype": "text/x-python",
   "name": "python",
   "nbconvert_exporter": "python",
   "pygments_lexer": "ipython3",
   "version": "3.8.13"
  },
  "toc-autonumbering": false,
  "toc-showcode": false,
  "toc-showmarkdowntxt": false,
  "toc-showtags": false,
  "widgets": {
   "application/vnd.jupyter.widget-state+json": {
    "state": {},
    "version_major": 2,
    "version_minor": 0
   }
  }
 },
 "nbformat": 4,
 "nbformat_minor": 5
}
